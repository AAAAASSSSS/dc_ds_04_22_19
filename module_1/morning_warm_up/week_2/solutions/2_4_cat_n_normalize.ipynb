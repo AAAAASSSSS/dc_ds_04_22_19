{
 "cells": [
  {
   "cell_type": "markdown",
   "metadata": {},
   "source": [
    "# Week 2, 2.4 Categorical and variable adjustment"
   ]
  },
  {
   "cell_type": "code",
   "execution_count": null,
   "metadata": {},
   "outputs": [],
   "source": [
    "\n",
    "# open the CO2 notebook we have worked on \n",
    "\n",
    "# The goal is to use the month and year attributes/features as a categorical variable to use in multiple regression\n",
    "# Do you understand why it's problematic to leave it as an integer type ? \n",
    "\n",
    "\n",
    "# 1. load the co2 data \n",
    "# 2. follow all steps from previous notebook to get it to the state \n",
    "## where we have 4 columns (year, month, day, CO2)\n",
    "\n",
    "# 3. use pd.dummy variable to transform month and year\n",
    "\n",
    "df_w_dummies = pd.get_dummies(df1, columns=['Month', 'Year'])\n",
    "\n",
    "df_w_dummies\n",
    "\n",
    "# 4. for practice purposes only let's create a function that gets a df and a column name \n",
    "# and outputs a normalized column\n",
    "# a column of our choice --> here we'll test the CO2 column \n",
    "# let's use the np.mean function and np.std \n",
    "\n",
    "def normalize_col(df, col_name): \n",
    "    df['normalized_col'] = (df[col_name] - np.mean(df[col_name])) / np.std(df[col_name])\n",
    "    return df\n",
    "\n",
    "df_normalized = normalize_col(df_w_dummies, 'CO2')\n",
    "\n",
    "df_normalized\n",
    "\n",
    "# 5. push all your changes to github\n",
    "\n",
    "# 6. open the suicide_rates file and notebook \n",
    "# 7. apply normalization and dummies wherever seems appropriate \n",
    "# to you to prepare the data for some analysis - this is a discussion to be done \n",
    "# in pairs or triplets.\n",
    "\n",
    "# 8. push any changes to github\n",
    "\n",
    "# 9. Send your TCF the last value of normalized C02 you have recieved "
   ]
  },
  {
   "cell_type": "code",
   "execution_count": null,
   "metadata": {},
   "outputs": [],
   "source": []
  }
 ],
 "metadata": {
  "kernelspec": {
   "display_name": "Python 3",
   "language": "python",
   "name": "python3"
  },
  "language_info": {
   "codemirror_mode": {
    "name": "ipython",
    "version": 2
   },
   "file_extension": ".py",
   "mimetype": "text/x-python",
   "name": "python",
   "nbconvert_exporter": "python",
   "pygments_lexer": "ipython2",
   "version": "2.7.16"
  }
 },
 "nbformat": 4,
 "nbformat_minor": 2
}
